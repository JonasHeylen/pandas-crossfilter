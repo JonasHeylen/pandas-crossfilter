{
 "cells": [
  {
   "cell_type": "code",
   "execution_count": 89,
   "metadata": {
    "collapsed": true
   },
   "outputs": [],
   "source": [
    "import sys\n",
    "sys.path.append('/Users/jonas/src/pandas-crossfilter')"
   ]
  },
  {
   "cell_type": "code",
   "execution_count": 90,
   "metadata": {
    "collapsed": true
   },
   "outputs": [],
   "source": [
    "import pandas as pd"
   ]
  },
  {
   "cell_type": "code",
   "execution_count": 91,
   "metadata": {
    "collapsed": false
   },
   "outputs": [
    {
     "name": "stdout",
     "output_type": "stream",
     "text": [
      "The autoreload extension is already loaded. To reload it, use:\n",
      "  %reload_ext autoreload\n"
     ]
    }
   ],
   "source": [
    "%load_ext autoreload\n",
    "%autoreload 1\n",
    "%aimport crossfilter"
   ]
  },
  {
   "cell_type": "code",
   "execution_count": 92,
   "metadata": {
    "collapsed": true
   },
   "outputs": [],
   "source": [
    "from crossfilter import *"
   ]
  },
  {
   "cell_type": "code",
   "execution_count": 93,
   "metadata": {
    "collapsed": false
   },
   "outputs": [
    {
     "data": {
      "application/javascript": [
       "require.config({\n",
       "    paths: {\n",
       "        'd3': '//cdnjs.cloudflare.com/ajax/libs/d3/3.5.16/d3.min',\n",
       "        'crossfilter': '//cdnjs.cloudflare.com/ajax/libs/crossfilter/1.3.12/crossfilter.min',\n",
       "        'dc': '//cdnjs.cloudflare.com/ajax/libs/dc/1.7.5/dc.min',\n",
       "    },\n",
       "    shim: {\n",
       "        'crossfilter': {\n",
       "            deps: [],\n",
       "            exports: 'crossfilter'\n",
       "        }\n",
       "    }\n",
       "});"
      ],
      "text/plain": [
       "<IPython.core.display.Javascript object>"
      ]
     },
     "execution_count": 93,
     "metadata": {},
     "output_type": "execute_result"
    }
   ],
   "source": [
    "load_js()"
   ]
  },
  {
   "cell_type": "code",
   "execution_count": 94,
   "metadata": {
    "collapsed": true
   },
   "outputs": [],
   "source": [
    "df = pd.read_csv(\"https://raw.githubusercontent.com/vincentarelbundock/Rdatasets/master/csv/datasets/airquality.csv\", \n",
    "                 index_col=0)"
   ]
  },
  {
   "cell_type": "code",
   "execution_count": 95,
   "metadata": {
    "collapsed": false
   },
   "outputs": [
    {
     "data": {
      "text/html": [
       "<div>\n",
       "<table border=\"1\" class=\"dataframe\">\n",
       "  <thead>\n",
       "    <tr style=\"text-align: right;\">\n",
       "      <th></th>\n",
       "      <th>Ozone</th>\n",
       "      <th>Solar.R</th>\n",
       "      <th>Wind</th>\n",
       "      <th>Temp</th>\n",
       "      <th>Month</th>\n",
       "      <th>Day</th>\n",
       "    </tr>\n",
       "  </thead>\n",
       "  <tbody>\n",
       "    <tr>\n",
       "      <th>1</th>\n",
       "      <td>41</td>\n",
       "      <td>190</td>\n",
       "      <td>7.4</td>\n",
       "      <td>67</td>\n",
       "      <td>5</td>\n",
       "      <td>1</td>\n",
       "    </tr>\n",
       "    <tr>\n",
       "      <th>2</th>\n",
       "      <td>36</td>\n",
       "      <td>118</td>\n",
       "      <td>8.0</td>\n",
       "      <td>72</td>\n",
       "      <td>5</td>\n",
       "      <td>2</td>\n",
       "    </tr>\n",
       "    <tr>\n",
       "      <th>3</th>\n",
       "      <td>12</td>\n",
       "      <td>149</td>\n",
       "      <td>12.6</td>\n",
       "      <td>74</td>\n",
       "      <td>5</td>\n",
       "      <td>3</td>\n",
       "    </tr>\n",
       "  </tbody>\n",
       "</table>\n",
       "</div>"
      ],
      "text/plain": [
       "   Ozone  Solar.R  Wind  Temp  Month  Day\n",
       "1     41      190   7.4    67      5    1\n",
       "2     36      118   8.0    72      5    2\n",
       "3     12      149  12.6    74      5    3"
      ]
     },
     "execution_count": 95,
     "metadata": {},
     "output_type": "execute_result"
    }
   ],
   "source": [
    "df.head(3)"
   ]
  },
  {
   "cell_type": "code",
   "execution_count": 96,
   "metadata": {
    "collapsed": false
   },
   "outputs": [
    {
     "data": {
      "application/javascript": [
       "window.crossfilterData = [{\"Ozone\":41.0,\"Solar.R\":190.0,\"Wind\":7.4,\"Temp\":67,\"Month\":5,\"Day\":1},{\"Ozone\":36.0,\"Solar.R\":118.0,\"Wind\":8.0,\"Temp\":72,\"Month\":5,\"Day\":2},{\"Ozone\":12.0,\"Solar.R\":149.0,\"Wind\":12.6,\"Temp\":74,\"Month\":5,\"Day\":3},{\"Ozone\":18.0,\"Solar.R\":313.0,\"Wind\":11.5,\"Temp\":62,\"Month\":5,\"Day\":4},{\"Ozone\":null,\"Solar.R\":null,\"Wind\":14.3,\"Temp\":56,\"Month\":5,\"Day\":5},{\"Ozone\":28.0,\"Solar.R\":null,\"Wind\":14.9,\"Temp\":66,\"Month\":5,\"Day\":6},{\"Ozone\":23.0,\"Solar.R\":299.0,\"Wind\":8.6,\"Temp\":65,\"Month\":5,\"Day\":7},{\"Ozone\":19.0,\"Solar.R\":99.0,\"Wind\":13.8,\"Temp\":59,\"Month\":5,\"Day\":8},{\"Ozone\":8.0,\"Solar.R\":19.0,\"Wind\":20.1,\"Temp\":61,\"Month\":5,\"Day\":9},{\"Ozone\":null,\"Solar.R\":194.0,\"Wind\":8.6,\"Temp\":69,\"Month\":5,\"Day\":10},{\"Ozone\":7.0,\"Solar.R\":null,\"Wind\":6.9,\"Temp\":74,\"Month\":5,\"Day\":11},{\"Ozone\":16.0,\"Solar.R\":256.0,\"Wind\":9.7,\"Temp\":69,\"Month\":5,\"Day\":12},{\"Ozone\":11.0,\"Solar.R\":290.0,\"Wind\":9.2,\"Temp\":66,\"Month\":5,\"Day\":13},{\"Ozone\":14.0,\"Solar.R\":274.0,\"Wind\":10.9,\"Temp\":68,\"Month\":5,\"Day\":14},{\"Ozone\":18.0,\"Solar.R\":65.0,\"Wind\":13.2,\"Temp\":58,\"Month\":5,\"Day\":15},{\"Ozone\":14.0,\"Solar.R\":334.0,\"Wind\":11.5,\"Temp\":64,\"Month\":5,\"Day\":16},{\"Ozone\":34.0,\"Solar.R\":307.0,\"Wind\":12.0,\"Temp\":66,\"Month\":5,\"Day\":17},{\"Ozone\":6.0,\"Solar.R\":78.0,\"Wind\":18.4,\"Temp\":57,\"Month\":5,\"Day\":18},{\"Ozone\":30.0,\"Solar.R\":322.0,\"Wind\":11.5,\"Temp\":68,\"Month\":5,\"Day\":19},{\"Ozone\":11.0,\"Solar.R\":44.0,\"Wind\":9.7,\"Temp\":62,\"Month\":5,\"Day\":20},{\"Ozone\":1.0,\"Solar.R\":8.0,\"Wind\":9.7,\"Temp\":59,\"Month\":5,\"Day\":21},{\"Ozone\":11.0,\"Solar.R\":320.0,\"Wind\":16.6,\"Temp\":73,\"Month\":5,\"Day\":22},{\"Ozone\":4.0,\"Solar.R\":25.0,\"Wind\":9.7,\"Temp\":61,\"Month\":5,\"Day\":23},{\"Ozone\":32.0,\"Solar.R\":92.0,\"Wind\":12.0,\"Temp\":61,\"Month\":5,\"Day\":24},{\"Ozone\":null,\"Solar.R\":66.0,\"Wind\":16.6,\"Temp\":57,\"Month\":5,\"Day\":25},{\"Ozone\":null,\"Solar.R\":266.0,\"Wind\":14.9,\"Temp\":58,\"Month\":5,\"Day\":26},{\"Ozone\":null,\"Solar.R\":null,\"Wind\":8.0,\"Temp\":57,\"Month\":5,\"Day\":27},{\"Ozone\":23.0,\"Solar.R\":13.0,\"Wind\":12.0,\"Temp\":67,\"Month\":5,\"Day\":28},{\"Ozone\":45.0,\"Solar.R\":252.0,\"Wind\":14.9,\"Temp\":81,\"Month\":5,\"Day\":29},{\"Ozone\":115.0,\"Solar.R\":223.0,\"Wind\":5.7,\"Temp\":79,\"Month\":5,\"Day\":30},{\"Ozone\":37.0,\"Solar.R\":279.0,\"Wind\":7.4,\"Temp\":76,\"Month\":5,\"Day\":31},{\"Ozone\":null,\"Solar.R\":286.0,\"Wind\":8.6,\"Temp\":78,\"Month\":6,\"Day\":1},{\"Ozone\":null,\"Solar.R\":287.0,\"Wind\":9.7,\"Temp\":74,\"Month\":6,\"Day\":2},{\"Ozone\":null,\"Solar.R\":242.0,\"Wind\":16.1,\"Temp\":67,\"Month\":6,\"Day\":3},{\"Ozone\":null,\"Solar.R\":186.0,\"Wind\":9.2,\"Temp\":84,\"Month\":6,\"Day\":4},{\"Ozone\":null,\"Solar.R\":220.0,\"Wind\":8.6,\"Temp\":85,\"Month\":6,\"Day\":5},{\"Ozone\":null,\"Solar.R\":264.0,\"Wind\":14.3,\"Temp\":79,\"Month\":6,\"Day\":6},{\"Ozone\":29.0,\"Solar.R\":127.0,\"Wind\":9.7,\"Temp\":82,\"Month\":6,\"Day\":7},{\"Ozone\":null,\"Solar.R\":273.0,\"Wind\":6.9,\"Temp\":87,\"Month\":6,\"Day\":8},{\"Ozone\":71.0,\"Solar.R\":291.0,\"Wind\":13.8,\"Temp\":90,\"Month\":6,\"Day\":9},{\"Ozone\":39.0,\"Solar.R\":323.0,\"Wind\":11.5,\"Temp\":87,\"Month\":6,\"Day\":10},{\"Ozone\":null,\"Solar.R\":259.0,\"Wind\":10.9,\"Temp\":93,\"Month\":6,\"Day\":11},{\"Ozone\":null,\"Solar.R\":250.0,\"Wind\":9.2,\"Temp\":92,\"Month\":6,\"Day\":12},{\"Ozone\":23.0,\"Solar.R\":148.0,\"Wind\":8.0,\"Temp\":82,\"Month\":6,\"Day\":13},{\"Ozone\":null,\"Solar.R\":332.0,\"Wind\":13.8,\"Temp\":80,\"Month\":6,\"Day\":14},{\"Ozone\":null,\"Solar.R\":322.0,\"Wind\":11.5,\"Temp\":79,\"Month\":6,\"Day\":15},{\"Ozone\":21.0,\"Solar.R\":191.0,\"Wind\":14.9,\"Temp\":77,\"Month\":6,\"Day\":16},{\"Ozone\":37.0,\"Solar.R\":284.0,\"Wind\":20.7,\"Temp\":72,\"Month\":6,\"Day\":17},{\"Ozone\":20.0,\"Solar.R\":37.0,\"Wind\":9.2,\"Temp\":65,\"Month\":6,\"Day\":18},{\"Ozone\":12.0,\"Solar.R\":120.0,\"Wind\":11.5,\"Temp\":73,\"Month\":6,\"Day\":19},{\"Ozone\":13.0,\"Solar.R\":137.0,\"Wind\":10.3,\"Temp\":76,\"Month\":6,\"Day\":20},{\"Ozone\":null,\"Solar.R\":150.0,\"Wind\":6.3,\"Temp\":77,\"Month\":6,\"Day\":21},{\"Ozone\":null,\"Solar.R\":59.0,\"Wind\":1.7,\"Temp\":76,\"Month\":6,\"Day\":22},{\"Ozone\":null,\"Solar.R\":91.0,\"Wind\":4.6,\"Temp\":76,\"Month\":6,\"Day\":23},{\"Ozone\":null,\"Solar.R\":250.0,\"Wind\":6.3,\"Temp\":76,\"Month\":6,\"Day\":24},{\"Ozone\":null,\"Solar.R\":135.0,\"Wind\":8.0,\"Temp\":75,\"Month\":6,\"Day\":25},{\"Ozone\":null,\"Solar.R\":127.0,\"Wind\":8.0,\"Temp\":78,\"Month\":6,\"Day\":26},{\"Ozone\":null,\"Solar.R\":47.0,\"Wind\":10.3,\"Temp\":73,\"Month\":6,\"Day\":27},{\"Ozone\":null,\"Solar.R\":98.0,\"Wind\":11.5,\"Temp\":80,\"Month\":6,\"Day\":28},{\"Ozone\":null,\"Solar.R\":31.0,\"Wind\":14.9,\"Temp\":77,\"Month\":6,\"Day\":29},{\"Ozone\":null,\"Solar.R\":138.0,\"Wind\":8.0,\"Temp\":83,\"Month\":6,\"Day\":30},{\"Ozone\":135.0,\"Solar.R\":269.0,\"Wind\":4.1,\"Temp\":84,\"Month\":7,\"Day\":1},{\"Ozone\":49.0,\"Solar.R\":248.0,\"Wind\":9.2,\"Temp\":85,\"Month\":7,\"Day\":2},{\"Ozone\":32.0,\"Solar.R\":236.0,\"Wind\":9.2,\"Temp\":81,\"Month\":7,\"Day\":3},{\"Ozone\":null,\"Solar.R\":101.0,\"Wind\":10.9,\"Temp\":84,\"Month\":7,\"Day\":4},{\"Ozone\":64.0,\"Solar.R\":175.0,\"Wind\":4.6,\"Temp\":83,\"Month\":7,\"Day\":5},{\"Ozone\":40.0,\"Solar.R\":314.0,\"Wind\":10.9,\"Temp\":83,\"Month\":7,\"Day\":6},{\"Ozone\":77.0,\"Solar.R\":276.0,\"Wind\":5.1,\"Temp\":88,\"Month\":7,\"Day\":7},{\"Ozone\":97.0,\"Solar.R\":267.0,\"Wind\":6.3,\"Temp\":92,\"Month\":7,\"Day\":8},{\"Ozone\":97.0,\"Solar.R\":272.0,\"Wind\":5.7,\"Temp\":92,\"Month\":7,\"Day\":9},{\"Ozone\":85.0,\"Solar.R\":175.0,\"Wind\":7.4,\"Temp\":89,\"Month\":7,\"Day\":10},{\"Ozone\":null,\"Solar.R\":139.0,\"Wind\":8.6,\"Temp\":82,\"Month\":7,\"Day\":11},{\"Ozone\":10.0,\"Solar.R\":264.0,\"Wind\":14.3,\"Temp\":73,\"Month\":7,\"Day\":12},{\"Ozone\":27.0,\"Solar.R\":175.0,\"Wind\":14.9,\"Temp\":81,\"Month\":7,\"Day\":13},{\"Ozone\":null,\"Solar.R\":291.0,\"Wind\":14.9,\"Temp\":91,\"Month\":7,\"Day\":14},{\"Ozone\":7.0,\"Solar.R\":48.0,\"Wind\":14.3,\"Temp\":80,\"Month\":7,\"Day\":15},{\"Ozone\":48.0,\"Solar.R\":260.0,\"Wind\":6.9,\"Temp\":81,\"Month\":7,\"Day\":16},{\"Ozone\":35.0,\"Solar.R\":274.0,\"Wind\":10.3,\"Temp\":82,\"Month\":7,\"Day\":17},{\"Ozone\":61.0,\"Solar.R\":285.0,\"Wind\":6.3,\"Temp\":84,\"Month\":7,\"Day\":18},{\"Ozone\":79.0,\"Solar.R\":187.0,\"Wind\":5.1,\"Temp\":87,\"Month\":7,\"Day\":19},{\"Ozone\":63.0,\"Solar.R\":220.0,\"Wind\":11.5,\"Temp\":85,\"Month\":7,\"Day\":20},{\"Ozone\":16.0,\"Solar.R\":7.0,\"Wind\":6.9,\"Temp\":74,\"Month\":7,\"Day\":21},{\"Ozone\":null,\"Solar.R\":258.0,\"Wind\":9.7,\"Temp\":81,\"Month\":7,\"Day\":22},{\"Ozone\":null,\"Solar.R\":295.0,\"Wind\":11.5,\"Temp\":82,\"Month\":7,\"Day\":23},{\"Ozone\":80.0,\"Solar.R\":294.0,\"Wind\":8.6,\"Temp\":86,\"Month\":7,\"Day\":24},{\"Ozone\":108.0,\"Solar.R\":223.0,\"Wind\":8.0,\"Temp\":85,\"Month\":7,\"Day\":25},{\"Ozone\":20.0,\"Solar.R\":81.0,\"Wind\":8.6,\"Temp\":82,\"Month\":7,\"Day\":26},{\"Ozone\":52.0,\"Solar.R\":82.0,\"Wind\":12.0,\"Temp\":86,\"Month\":7,\"Day\":27},{\"Ozone\":82.0,\"Solar.R\":213.0,\"Wind\":7.4,\"Temp\":88,\"Month\":7,\"Day\":28},{\"Ozone\":50.0,\"Solar.R\":275.0,\"Wind\":7.4,\"Temp\":86,\"Month\":7,\"Day\":29},{\"Ozone\":64.0,\"Solar.R\":253.0,\"Wind\":7.4,\"Temp\":83,\"Month\":7,\"Day\":30},{\"Ozone\":59.0,\"Solar.R\":254.0,\"Wind\":9.2,\"Temp\":81,\"Month\":7,\"Day\":31},{\"Ozone\":39.0,\"Solar.R\":83.0,\"Wind\":6.9,\"Temp\":81,\"Month\":8,\"Day\":1},{\"Ozone\":9.0,\"Solar.R\":24.0,\"Wind\":13.8,\"Temp\":81,\"Month\":8,\"Day\":2},{\"Ozone\":16.0,\"Solar.R\":77.0,\"Wind\":7.4,\"Temp\":82,\"Month\":8,\"Day\":3},{\"Ozone\":78.0,\"Solar.R\":null,\"Wind\":6.9,\"Temp\":86,\"Month\":8,\"Day\":4},{\"Ozone\":35.0,\"Solar.R\":null,\"Wind\":7.4,\"Temp\":85,\"Month\":8,\"Day\":5},{\"Ozone\":66.0,\"Solar.R\":null,\"Wind\":4.6,\"Temp\":87,\"Month\":8,\"Day\":6},{\"Ozone\":122.0,\"Solar.R\":255.0,\"Wind\":4.0,\"Temp\":89,\"Month\":8,\"Day\":7},{\"Ozone\":89.0,\"Solar.R\":229.0,\"Wind\":10.3,\"Temp\":90,\"Month\":8,\"Day\":8},{\"Ozone\":110.0,\"Solar.R\":207.0,\"Wind\":8.0,\"Temp\":90,\"Month\":8,\"Day\":9},{\"Ozone\":null,\"Solar.R\":222.0,\"Wind\":8.6,\"Temp\":92,\"Month\":8,\"Day\":10},{\"Ozone\":null,\"Solar.R\":137.0,\"Wind\":11.5,\"Temp\":86,\"Month\":8,\"Day\":11},{\"Ozone\":44.0,\"Solar.R\":192.0,\"Wind\":11.5,\"Temp\":86,\"Month\":8,\"Day\":12},{\"Ozone\":28.0,\"Solar.R\":273.0,\"Wind\":11.5,\"Temp\":82,\"Month\":8,\"Day\":13},{\"Ozone\":65.0,\"Solar.R\":157.0,\"Wind\":9.7,\"Temp\":80,\"Month\":8,\"Day\":14},{\"Ozone\":null,\"Solar.R\":64.0,\"Wind\":11.5,\"Temp\":79,\"Month\":8,\"Day\":15},{\"Ozone\":22.0,\"Solar.R\":71.0,\"Wind\":10.3,\"Temp\":77,\"Month\":8,\"Day\":16},{\"Ozone\":59.0,\"Solar.R\":51.0,\"Wind\":6.3,\"Temp\":79,\"Month\":8,\"Day\":17},{\"Ozone\":23.0,\"Solar.R\":115.0,\"Wind\":7.4,\"Temp\":76,\"Month\":8,\"Day\":18},{\"Ozone\":31.0,\"Solar.R\":244.0,\"Wind\":10.9,\"Temp\":78,\"Month\":8,\"Day\":19},{\"Ozone\":44.0,\"Solar.R\":190.0,\"Wind\":10.3,\"Temp\":78,\"Month\":8,\"Day\":20},{\"Ozone\":21.0,\"Solar.R\":259.0,\"Wind\":15.5,\"Temp\":77,\"Month\":8,\"Day\":21},{\"Ozone\":9.0,\"Solar.R\":36.0,\"Wind\":14.3,\"Temp\":72,\"Month\":8,\"Day\":22},{\"Ozone\":null,\"Solar.R\":255.0,\"Wind\":12.6,\"Temp\":75,\"Month\":8,\"Day\":23},{\"Ozone\":45.0,\"Solar.R\":212.0,\"Wind\":9.7,\"Temp\":79,\"Month\":8,\"Day\":24},{\"Ozone\":168.0,\"Solar.R\":238.0,\"Wind\":3.4,\"Temp\":81,\"Month\":8,\"Day\":25},{\"Ozone\":73.0,\"Solar.R\":215.0,\"Wind\":8.0,\"Temp\":86,\"Month\":8,\"Day\":26},{\"Ozone\":null,\"Solar.R\":153.0,\"Wind\":5.7,\"Temp\":88,\"Month\":8,\"Day\":27},{\"Ozone\":76.0,\"Solar.R\":203.0,\"Wind\":9.7,\"Temp\":97,\"Month\":8,\"Day\":28},{\"Ozone\":118.0,\"Solar.R\":225.0,\"Wind\":2.3,\"Temp\":94,\"Month\":8,\"Day\":29},{\"Ozone\":84.0,\"Solar.R\":237.0,\"Wind\":6.3,\"Temp\":96,\"Month\":8,\"Day\":30},{\"Ozone\":85.0,\"Solar.R\":188.0,\"Wind\":6.3,\"Temp\":94,\"Month\":8,\"Day\":31},{\"Ozone\":96.0,\"Solar.R\":167.0,\"Wind\":6.9,\"Temp\":91,\"Month\":9,\"Day\":1},{\"Ozone\":78.0,\"Solar.R\":197.0,\"Wind\":5.1,\"Temp\":92,\"Month\":9,\"Day\":2},{\"Ozone\":73.0,\"Solar.R\":183.0,\"Wind\":2.8,\"Temp\":93,\"Month\":9,\"Day\":3},{\"Ozone\":91.0,\"Solar.R\":189.0,\"Wind\":4.6,\"Temp\":93,\"Month\":9,\"Day\":4},{\"Ozone\":47.0,\"Solar.R\":95.0,\"Wind\":7.4,\"Temp\":87,\"Month\":9,\"Day\":5},{\"Ozone\":32.0,\"Solar.R\":92.0,\"Wind\":15.5,\"Temp\":84,\"Month\":9,\"Day\":6},{\"Ozone\":20.0,\"Solar.R\":252.0,\"Wind\":10.9,\"Temp\":80,\"Month\":9,\"Day\":7},{\"Ozone\":23.0,\"Solar.R\":220.0,\"Wind\":10.3,\"Temp\":78,\"Month\":9,\"Day\":8},{\"Ozone\":21.0,\"Solar.R\":230.0,\"Wind\":10.9,\"Temp\":75,\"Month\":9,\"Day\":9},{\"Ozone\":24.0,\"Solar.R\":259.0,\"Wind\":9.7,\"Temp\":73,\"Month\":9,\"Day\":10},{\"Ozone\":44.0,\"Solar.R\":236.0,\"Wind\":14.9,\"Temp\":81,\"Month\":9,\"Day\":11},{\"Ozone\":21.0,\"Solar.R\":259.0,\"Wind\":15.5,\"Temp\":76,\"Month\":9,\"Day\":12},{\"Ozone\":28.0,\"Solar.R\":238.0,\"Wind\":6.3,\"Temp\":77,\"Month\":9,\"Day\":13},{\"Ozone\":9.0,\"Solar.R\":24.0,\"Wind\":10.9,\"Temp\":71,\"Month\":9,\"Day\":14},{\"Ozone\":13.0,\"Solar.R\":112.0,\"Wind\":11.5,\"Temp\":71,\"Month\":9,\"Day\":15},{\"Ozone\":46.0,\"Solar.R\":237.0,\"Wind\":6.9,\"Temp\":78,\"Month\":9,\"Day\":16},{\"Ozone\":18.0,\"Solar.R\":224.0,\"Wind\":13.8,\"Temp\":67,\"Month\":9,\"Day\":17},{\"Ozone\":13.0,\"Solar.R\":27.0,\"Wind\":10.3,\"Temp\":76,\"Month\":9,\"Day\":18},{\"Ozone\":24.0,\"Solar.R\":238.0,\"Wind\":10.3,\"Temp\":68,\"Month\":9,\"Day\":19},{\"Ozone\":16.0,\"Solar.R\":201.0,\"Wind\":8.0,\"Temp\":82,\"Month\":9,\"Day\":20},{\"Ozone\":13.0,\"Solar.R\":238.0,\"Wind\":12.6,\"Temp\":64,\"Month\":9,\"Day\":21},{\"Ozone\":23.0,\"Solar.R\":14.0,\"Wind\":9.2,\"Temp\":71,\"Month\":9,\"Day\":22},{\"Ozone\":36.0,\"Solar.R\":139.0,\"Wind\":10.3,\"Temp\":81,\"Month\":9,\"Day\":23},{\"Ozone\":7.0,\"Solar.R\":49.0,\"Wind\":10.3,\"Temp\":69,\"Month\":9,\"Day\":24},{\"Ozone\":14.0,\"Solar.R\":20.0,\"Wind\":16.6,\"Temp\":63,\"Month\":9,\"Day\":25},{\"Ozone\":30.0,\"Solar.R\":193.0,\"Wind\":6.9,\"Temp\":70,\"Month\":9,\"Day\":26},{\"Ozone\":null,\"Solar.R\":145.0,\"Wind\":13.2,\"Temp\":77,\"Month\":9,\"Day\":27},{\"Ozone\":14.0,\"Solar.R\":191.0,\"Wind\":14.3,\"Temp\":75,\"Month\":9,\"Day\":28},{\"Ozone\":18.0,\"Solar.R\":131.0,\"Wind\":8.0,\"Temp\":76,\"Month\":9,\"Day\":29},{\"Ozone\":20.0,\"Solar.R\":223.0,\"Wind\":11.5,\"Temp\":68,\"Month\":9,\"Day\":30}];"
      ],
      "text/plain": [
       "<IPython.core.display.Javascript object>"
      ]
     },
     "execution_count": 96,
     "metadata": {},
     "output_type": "execute_result"
    }
   ],
   "source": [
    "crossfilter.dataframe_as_js(df)"
   ]
  },
  {
   "cell_type": "code",
   "execution_count": 97,
   "metadata": {
    "collapsed": true
   },
   "outputs": [],
   "source": [
    "from IPython.display import Javascript, HTML"
   ]
  },
  {
   "cell_type": "code",
   "execution_count": 98,
   "metadata": {
    "collapsed": false
   },
   "outputs": [
    {
     "data": {
      "application/javascript": [
       "element.append(\"<p>\"+crossfilterData[0].Temp+\"</p>\")"
      ],
      "text/plain": [
       "<IPython.core.display.Javascript object>"
      ]
     },
     "execution_count": 98,
     "metadata": {},
     "output_type": "execute_result"
    }
   ],
   "source": [
    "Javascript('element.append(\"<p>\"+crossfilterData[0].Temp+\"</p>\")')"
   ]
  },
  {
   "cell_type": "code",
   "execution_count": 104,
   "metadata": {
    "collapsed": false
   },
   "outputs": [
    {
     "data": {
      "application/javascript": [
       "require(['d3', 'crossfilter', 'dc'], function(d3, crossfilter, dc) {\n",
       "    var cf = crossfilter(window.crossfilterData);\n",
       "    //element.append('<div class=\"dc-data-table\"></div>');\n",
       "    //var table = dc.dataTable('.dc-data-table');\n",
       "    var dayDimension = cf.dimension(function (d) { return d.Day; });\n",
       "    var monthDimension = cf.dimension(function (d) { return d.Month; });\n",
       "    //table.dimension(dayDimension);\n",
       "    //dc.renderAll();\n",
       "    //dc.redrawAll();\n",
       "    console.log(dayDimension.group().top(3));\n",
       "    console.log(monthDimension.group().all());\n",
       "    dayDimension.filter(31);\n",
       "    console.log(monthDimension.group().all());\n",
       "    dayDimension.filter(null);\n",
       "    console.log(monthDimension.group().all());\n",
       "});"
      ],
      "text/plain": [
       "<IPython.core.display.Javascript object>"
      ]
     },
     "metadata": {},
     "output_type": "display_data"
    }
   ],
   "source": [
    "%%javascript\n",
    "require(['d3', 'crossfilter', 'dc'], function(d3, crossfilter, dc) {\n",
    "    var cf = crossfilter(window.crossfilterData);\n",
    "    //element.append('<div class=\"dc-data-table\"></div>');\n",
    "    //var table = dc.dataTable('.dc-data-table');\n",
    "    var dayDimension = cf.dimension(function (d) { return d.Day; });\n",
    "    var monthDimension = cf.dimension(function (d) { return d.Month; });\n",
    "    //table.dimension(dayDimension);\n",
    "    //dc.renderAll();\n",
    "    //dc.redrawAll();\n",
    "    console.log(dayDimension.group().top(3));\n",
    "    console.log(monthDimension.group().all());\n",
    "    dayDimension.filter(31);\n",
    "    console.log(monthDimension.group().all());\n",
    "    dayDimension.filter(null);\n",
    "    console.log(monthDimension.group().all());\n",
    "});"
   ]
  },
  {
   "cell_type": "code",
   "execution_count": null,
   "metadata": {
    "collapsed": true
   },
   "outputs": [],
   "source": []
  }
 ],
 "metadata": {
  "kernelspec": {
   "display_name": "py35",
   "language": "",
   "name": "py35"
  },
  "language_info": {
   "codemirror_mode": {
    "name": "ipython",
    "version": 3
   },
   "file_extension": ".py",
   "mimetype": "text/x-python",
   "name": "python",
   "nbconvert_exporter": "python",
   "pygments_lexer": "ipython3",
   "version": "3.5.1"
  }
 },
 "nbformat": 4,
 "nbformat_minor": 0
}
